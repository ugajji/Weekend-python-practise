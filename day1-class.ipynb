{
 "cells": [
  {
   "cell_type": "code",
   "execution_count": 1,
   "metadata": {},
   "outputs": [
    {
     "ename": "SyntaxError",
     "evalue": "Missing parentheses in call to 'print'. Did you mean print({\"hello world\"})? (<ipython-input-1-ba02c48b2bdb>, line 1)",
     "output_type": "error",
     "traceback": [
      "\u001b[1;36m  File \u001b[1;32m\"<ipython-input-1-ba02c48b2bdb>\"\u001b[1;36m, line \u001b[1;32m1\u001b[0m\n\u001b[1;33m    print {\"hello world\"};\u001b[0m\n\u001b[1;37m          ^\u001b[0m\n\u001b[1;31mSyntaxError\u001b[0m\u001b[1;31m:\u001b[0m Missing parentheses in call to 'print'. Did you mean print({\"hello world\"})?\n"
     ]
    }
   ],
   "source": [
    "print {\"hello world\"};"
   ]
  },
  {
   "cell_type": "code",
   "execution_count": 3,
   "metadata": {},
   "outputs": [
    {
     "name": "stdout",
     "output_type": "stream",
     "text": [
      "hello world\n"
     ]
    }
   ],
   "source": [
    "print(\"hello world\")"
   ]
  },
  {
   "cell_type": "code",
   "execution_count": 4,
   "metadata": {},
   "outputs": [],
   "source": [
    "import sys"
   ]
  },
  {
   "cell_type": "code",
   "execution_count": 5,
   "metadata": {},
   "outputs": [
    {
     "name": "stdout",
     "output_type": "stream",
     "text": [
      "hello\n"
     ]
    }
   ],
   "source": [
    "print(\"hello\")"
   ]
  },
  {
   "cell_type": "code",
   "execution_count": 8,
   "metadata": {},
   "outputs": [
    {
     "data": {
      "text/plain": [
       "22"
      ]
     },
     "execution_count": 8,
     "metadata": {},
     "output_type": "execute_result"
    }
   ],
   "source": [
    "x=10\n",
    "y=12\n",
    "\n",
    "x+y"
   ]
  },
  {
   "cell_type": "code",
   "execution_count": 13,
   "metadata": {},
   "outputs": [
    {
     "ename": "SyntaxError",
     "evalue": "invalid syntax (<ipython-input-13-7042e85954df>, line 1)",
     "output_type": "error",
     "traceback": [
      "\u001b[1;36m  File \u001b[1;32m\"<ipython-input-13-7042e85954df>\"\u001b[1;36m, line \u001b[1;32m1\u001b[0m\n\u001b[1;33m    message new = \"hello python\"\u001b[0m\n\u001b[1;37m              ^\u001b[0m\n\u001b[1;31mSyntaxError\u001b[0m\u001b[1;31m:\u001b[0m invalid syntax\n"
     ]
    }
   ],
   "source": [
    "message new = \"hello python\"\n",
    "\n",
    "print(message new)"
   ]
  },
  {
   "cell_type": "code",
   "execution_count": 19,
   "metadata": {},
   "outputs": [
    {
     "ename": "SyntaxError",
     "evalue": "invalid syntax (<ipython-input-19-5bc0a4eef5a8>, line 6)",
     "output_type": "error",
     "traceback": [
      "\u001b[1;36m  File \u001b[1;32m\"<ipython-input-19-5bc0a4eef5a8>\"\u001b[1;36m, line \u001b[1;32m6\u001b[0m\n\u001b[1;33m    print(full_name.upper() full_name.title())\u001b[0m\n\u001b[1;37m                                    ^\u001b[0m\n\u001b[1;31mSyntaxError\u001b[0m\u001b[1;31m:\u001b[0m invalid syntax\n"
     ]
    }
   ],
   "source": [
    "first_name = \"tony\"\n",
    "last_name = \"stark\"\n",
    "#f strings .. we can able to assign reference to other variables as \n",
    "full_name = f\"{first_name} {last_name}\"\n",
    "\n",
    "print(full_name.upper())"
   ]
  },
  {
   "cell_type": "code",
   "execution_count": 26,
   "metadata": {},
   "outputs": [
    {
     "name": "stdout",
     "output_type": "stream",
     "text": [
      "python\n"
     ]
    }
   ],
   "source": [
    "print(\"python\")"
   ]
  },
  {
   "cell_type": "code",
   "execution_count": 11,
   "metadata": {},
   "outputs": [
    {
     "name": "stdout",
     "output_type": "stream",
     "text": [
      "line 1 - value of c is  31\n",
      "line 2 - value of c is  31\n",
      "line 1 - value of c is  210\n",
      "line 1 - value of c is  2.1\n",
      "line 1 - value of c is  11\n",
      "line 1 - value of c is  16679880978201\n"
     ]
    }
   ],
   "source": [
    "a = 21\n",
    "b = 10\n",
    "c = 0\n",
    "\n",
    "c = a + b\n",
    "\n",
    "print('line 1 - value of c is ' ,c )\n",
    "\n",
    "c = a * b\n",
    "\n",
    "print('line 1 - value of c is ' ,c )\n",
    "c = a / b\n",
    "\n",
    "print('line 1 - value of c is ' ,c )\n",
    "c = a - b\n",
    "\n",
    "print('line 1 - value of c is ' ,c )\n",
    "\n",
    "c = a**b\n",
    "\n",
    "print('line 1 - value of c is ' ,c )"
   ]
  },
  {
   "cell_type": "code",
   "execution_count": 18,
   "metadata": {},
   "outputs": [
    {
     "name": "stdout",
     "output_type": "stream",
     "text": [
      "loine 2 - a and b are not equal\n"
     ]
    }
   ],
   "source": [
    "a = 15\n",
    "b = 20\n",
    "\n",
    "if (a == b):\n",
    "  print (\"line 1 - a and b are equal\")\n",
    "else:\n",
    " print ('line 2 - a and b are not equal')"
   ]
  },
  {
   "cell_type": "code",
   "execution_count": null,
   "metadata": {},
   "outputs": [],
   "source": []
  }
 ],
 "metadata": {
  "kernelspec": {
   "display_name": "Python 3",
   "language": "python",
   "name": "python3"
  },
  "language_info": {
   "codemirror_mode": {
    "name": "ipython",
    "version": 3
   },
   "file_extension": ".py",
   "mimetype": "text/x-python",
   "name": "python",
   "nbconvert_exporter": "python",
   "pygments_lexer": "ipython3",
   "version": "3.7.3"
  }
 },
 "nbformat": 4,
 "nbformat_minor": 2
}
