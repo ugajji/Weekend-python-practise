{
 "cells": [
  {
   "cell_type": "code",
   "execution_count": 2,
   "metadata": {},
   "outputs": [
    {
     "name": "stdout",
     "output_type": "stream",
     "text": [
      "['sachin', 'yuvaraj', 'raina', 'dhoni', 'dravid']\n"
     ]
    }
   ],
   "source": [
    "players = ['sachin','yuvaraj','raina','dhoni','dravid']\n",
    "print(players)"
   ]
  },
  {
   "cell_type": "code",
   "execution_count": 4,
   "metadata": {},
   "outputs": [
    {
     "name": "stdout",
     "output_type": "stream",
     "text": [
      "sachin\n",
      "yuvaraj\n",
      "raina\n",
      "dhoni\n",
      "dravid\n"
     ]
    }
   ],
   "source": [
    "for lst in players:\n",
    "    print(lst)"
   ]
  },
  {
   "cell_type": "code",
   "execution_count": 10,
   "metadata": {},
   "outputs": [
    {
     "name": "stdout",
     "output_type": "stream",
     "text": [
      "Sachin,that was a great trick\n",
      "Yuvaraj,that was a great trick\n",
      "Raina,that was a great trick\n",
      "Dhoni,that was a great trick\n",
      "Dravid,that was a great trick\n",
      "i cann't wait to see your next trick,Dravid\n"
     ]
    }
   ],
   "source": [
    "for x in players:\n",
    "    print(f\"{x.title()},that was a great trick\")\n",
    "print(f\"I cann't wait to see your next trick,{x.title()}\")"
   ]
  },
  {
   "cell_type": "code",
   "execution_count": 22,
   "metadata": {},
   "outputs": [
    {
     "name": "stdout",
     "output_type": "stream",
     "text": [
      "1\n",
      "3\n",
      "5\n",
      "7\n",
      "9\n"
     ]
    }
   ],
   "source": [
    "for a in range(1,11,2):\n",
    "    print(a)"
   ]
  },
  {
   "cell_type": "code",
   "execution_count": 25,
   "metadata": {},
   "outputs": [
    {
     "name": "stdout",
     "output_type": "stream",
     "text": [
      "[1, 3, 5, 7, 9, 11, 13, 15, 17, 19]\n"
     ]
    }
   ],
   "source": [
    "add_numbers = list(range(1,20,2))\n",
    "print(aa_numbers)"
   ]
  },
  {
   "cell_type": "code",
   "execution_count": 29,
   "metadata": {},
   "outputs": [
    {
     "name": "stdout",
     "output_type": "stream",
     "text": [
      "12,3354,56,34,656,"
     ]
    }
   ],
   "source": [
    "digits = [1,12,3354,3,56,34,656,23,10.11]\n",
    "for u in digits:\n",
    "    if u % 2 == 0:\n",
    "        print(u , end = \",\")"
   ]
  },
  {
   "cell_type": "code",
   "execution_count": 36,
   "metadata": {},
   "outputs": [
    {
     "name": "stdout",
     "output_type": "stream",
     "text": [
      "12\n",
      "3354\n",
      "56\n",
      "34\n",
      "656\n",
      "10\n"
     ]
    }
   ],
   "source": [
    "digits = [1,12,3354,3,56,34,656,23,10]\n",
    "for u in digits:\n",
    "    if u % 2 == 0:\n",
    "        print(u)"
   ]
  },
  {
   "cell_type": "code",
   "execution_count": null,
   "metadata": {},
   "outputs": [],
   "source": []
  }
 ],
 "metadata": {
  "kernelspec": {
   "display_name": "Python 3",
   "language": "python",
   "name": "python3"
  },
  "language_info": {
   "codemirror_mode": {
    "name": "ipython",
    "version": 3
   },
   "file_extension": ".py",
   "mimetype": "text/x-python",
   "name": "python",
   "nbconvert_exporter": "python",
   "pygments_lexer": "ipython3",
   "version": "3.7.3"
  }
 },
 "nbformat": 4,
 "nbformat_minor": 2
}
